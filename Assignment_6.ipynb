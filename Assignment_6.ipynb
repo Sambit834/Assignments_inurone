{
  "nbformat": 4,
  "nbformat_minor": 0,
  "metadata": {
    "colab": {
      "name": "Assignment_6.ipynb",
      "provenance": [],
      "collapsed_sections": []
    },
    "kernelspec": {
      "name": "python3",
      "display_name": "Python 3"
    },
    "language_info": {
      "name": "python"
    }
  },
  "cells": [
    {
      "cell_type": "markdown",
      "source": [
        "**1.What are Escape characters ? and how do you use them ?**"
      ],
      "metadata": {
        "id": "5eikksg9difi"
      }
    },
    {
      "cell_type": "markdown",
      "source": [
        "```\n",
        "Ans: Escape characters represent characters in string values that would otherwise be difficult or impossible to type into code. we can use the backslash character to escape a single character or symbol\n",
        "example: \\t, \\n\n",
        "\n",
        "```\n",
        "\n"
      ],
      "metadata": {
        "id": "ieEy0uyhejhk"
      }
    },
    {
      "cell_type": "markdown",
      "source": [
        ""
      ],
      "metadata": {
        "id": "PFLFspG6ewWB"
      }
    },
    {
      "cell_type": "markdown",
      "source": [
        "**2.What do the escape characters n and t stand for ?**"
      ],
      "metadata": {
        "id": "8GIdFwQOe5Li"
      }
    },
    {
      "cell_type": "code",
      "source": [
        ""
      ],
      "metadata": {
        "id": "AKRlJRgpfBK3"
      },
      "execution_count": null,
      "outputs": []
    },
    {
      "cell_type": "markdown",
      "source": [
        "Ans: \\n is a newline, \\t is a tab"
      ],
      "metadata": {
        "id": "MuhkFxL0fDl5"
      }
    },
    {
      "cell_type": "markdown",
      "source": [
        "**3.What is the way to include backslash character in a string?**"
      ],
      "metadata": {
        "id": "yHk5y6clgYUQ"
      }
    },
    {
      "cell_type": "markdown",
      "source": [
        "Ans: The \\\\ escape character will represent the backslash character in a string"
      ],
      "metadata": {
        "id": "50j3slVmgyNQ"
      }
    },
    {
      "cell_type": "code",
      "source": [
        ""
      ],
      "metadata": {
        "id": "ccTZ4or7g1D_"
      },
      "execution_count": null,
      "outputs": []
    },
    {
      "cell_type": "markdown",
      "source": [
        "**4.The string \"Howl's Moving Castle\" is a correct value. Why isn't the single quote character in the word Howl's not escaped a problem ?**"
      ],
      "metadata": {
        "id": "A2Ru9KQig7v3"
      }
    },
    {
      "cell_type": "markdown",
      "source": [
        "Ans: The string \"Howl's Moving Castle\" escaped the problem because it is wrapped inside double quotes. if its wrapped inside single quotes then we have to use escape character \\' to show single quote in the final output\n",
        "'Howl\\'s Moving Castle' -> 'Howl's Moving Castle'"
      ],
      "metadata": {
        "id": "zv6gZjAkiKwx"
      }
    },
    {
      "cell_type": "code",
      "source": [
        ""
      ],
      "metadata": {
        "id": "tCf1HOG-iL4M"
      },
      "execution_count": null,
      "outputs": []
    },
    {
      "cell_type": "markdown",
      "source": [
        "**5.How do you write a string of newlines if you don't want to use the n character?**"
      ],
      "metadata": {
        "id": "UWLwTTYQjx9a"
      }
    },
    {
      "cell_type": "code",
      "source": [
        "# Example:\n",
        "a = '''Sambit Banerjee\n",
        "Data Scientist'''\n",
        "print(a)"
      ],
      "metadata": {
        "colab": {
          "base_uri": "https://localhost:8080/"
        },
        "id": "vF-VQ1tdj2NG",
        "outputId": "721e8f8d-9f21-4cf1-c044-c5f6fba1e5f5"
      },
      "execution_count": 1,
      "outputs": [
        {
          "output_type": "stream",
          "name": "stdout",
          "text": [
            "Sambit Banerjee\n",
            "Data Scientist\n"
          ]
        }
      ]
    },
    {
      "cell_type": "markdown",
      "source": [
        "6.What are the values of the given expressions ?\n",
        "'Hello, world!'[1]\n",
        "'Hello, world!'[0:5]\n",
        "'Hello, world!'[:5]\n",
        "'Hello, world!'[3:]"
      ],
      "metadata": {
        "id": "uyZfkTUakR05"
      }
    },
    {
      "cell_type": "code",
      "source": [
        " 'Hello, world!'[3:]"
      ],
      "metadata": {
        "colab": {
          "base_uri": "https://localhost:8080/",
          "height": 35
        },
        "id": "_yYm5KQrpVXX",
        "outputId": "5e71aa13-de15-49c0-f72d-c36143f4aabf"
      },
      "execution_count": 6,
      "outputs": [
        {
          "output_type": "execute_result",
          "data": {
            "text/plain": [
              "'lo, world!'"
            ],
            "application/vnd.google.colaboratory.intrinsic+json": {
              "type": "string"
            }
          },
          "metadata": {},
          "execution_count": 6
        }
      ]
    },
    {
      "cell_type": "code",
      "source": [
        " 'Hello, world!'[1]"
      ],
      "metadata": {
        "colab": {
          "base_uri": "https://localhost:8080/",
          "height": 35
        },
        "id": "XLw0QaAwkXZZ",
        "outputId": "3925835d-2b0a-468c-de97-b545e68c9bfe"
      },
      "execution_count": 3,
      "outputs": [
        {
          "output_type": "execute_result",
          "data": {
            "text/plain": [
              "'e'"
            ],
            "application/vnd.google.colaboratory.intrinsic+json": {
              "type": "string"
            }
          },
          "metadata": {},
          "execution_count": 3
        }
      ]
    },
    {
      "cell_type": "code",
      "source": [
        " 'Hello, world!'[0:5]"
      ],
      "metadata": {
        "colab": {
          "base_uri": "https://localhost:8080/",
          "height": 35
        },
        "id": "BbZlb1SDpFH_",
        "outputId": "4c37b8fd-a376-4ec2-b313-2b164cce835a"
      },
      "execution_count": 4,
      "outputs": [
        {
          "output_type": "execute_result",
          "data": {
            "text/plain": [
              "'Hello'"
            ],
            "application/vnd.google.colaboratory.intrinsic+json": {
              "type": "string"
            }
          },
          "metadata": {},
          "execution_count": 4
        }
      ]
    },
    {
      "cell_type": "code",
      "source": [
        " 'Hello, world!'[:5] "
      ],
      "metadata": {
        "colab": {
          "base_uri": "https://localhost:8080/",
          "height": 35
        },
        "id": "GDWbyj0ypJoa",
        "outputId": "df0535ac-d521-4374-bb30-f8e94ee43215"
      },
      "execution_count": 5,
      "outputs": [
        {
          "output_type": "execute_result",
          "data": {
            "text/plain": [
              "'Hello'"
            ],
            "application/vnd.google.colaboratory.intrinsic+json": {
              "type": "string"
            }
          },
          "metadata": {},
          "execution_count": 5
        }
      ]
    },
    {
      "cell_type": "markdown",
      "source": [
        "**7.What are the values of the following expressions ?**\n",
        "'Hello'.upper()\n",
        "'Hello'.upper().isupper()\n",
        "'Hello'.upper().lower()\n",
        "\n"
      ],
      "metadata": {
        "id": "l5szN1tCpZGT"
      }
    },
    {
      "cell_type": "code",
      "source": [
        "'Hello'.upper()\n"
      ],
      "metadata": {
        "colab": {
          "base_uri": "https://localhost:8080/",
          "height": 35
        },
        "id": "nLBZW-pzpi-n",
        "outputId": "3e1c17cc-096d-4baa-97c7-fa4140cb794f"
      },
      "execution_count": 9,
      "outputs": [
        {
          "output_type": "execute_result",
          "data": {
            "text/plain": [
              "'HELLO'"
            ],
            "application/vnd.google.colaboratory.intrinsic+json": {
              "type": "string"
            }
          },
          "metadata": {},
          "execution_count": 9
        }
      ]
    },
    {
      "cell_type": "code",
      "source": [
        "'Hello'.upper().isupper()\n"
      ],
      "metadata": {
        "colab": {
          "base_uri": "https://localhost:8080/"
        },
        "id": "pgv1FDjNpsy7",
        "outputId": "0e9c9733-3d5b-4359-9ebc-85cd0868a99f"
      },
      "execution_count": 10,
      "outputs": [
        {
          "output_type": "execute_result",
          "data": {
            "text/plain": [
              "True"
            ]
          },
          "metadata": {},
          "execution_count": 10
        }
      ]
    },
    {
      "cell_type": "code",
      "source": [
        "'Hello'.upper().lower()"
      ],
      "metadata": {
        "colab": {
          "base_uri": "https://localhost:8080/",
          "height": 35
        },
        "id": "pbhhlY39p3TB",
        "outputId": "3d306416-f103-4a1b-ecbb-d43a29051f75"
      },
      "execution_count": 11,
      "outputs": [
        {
          "output_type": "execute_result",
          "data": {
            "text/plain": [
              "'hello'"
            ],
            "application/vnd.google.colaboratory.intrinsic+json": {
              "type": "string"
            }
          },
          "metadata": {},
          "execution_count": 11
        }
      ]
    },
    {
      "cell_type": "code",
      "source": [
        ""
      ],
      "metadata": {
        "id": "ATcUUr2dp7dG"
      },
      "execution_count": null,
      "outputs": []
    },
    {
      "cell_type": "markdown",
      "source": [
        "8.What are the values of the following expressions ?\n",
        "'Remember, remember, the fifith of July.'.split()\n",
        "-'.join('There can only one'.split())\n",
        "\n",
        "Ans: The values for the given expressions are:\n",
        "'Remember, remember, the fifith of July.'.split() -> ['Remember,', 'remember,', 'the', 'fifith', 'of', 'July.']\n",
        "'-'.join('There can only one'.split()) -> 'There-can-only-one'"
      ],
      "metadata": {
        "id": "wUOyg5jJqBoN"
      }
    },
    {
      "cell_type": "code",
      "source": [
        ""
      ],
      "metadata": {
        "id": "QK_wWmcMqC0e"
      },
      "execution_count": null,
      "outputs": []
    },
    {
      "cell_type": "markdown",
      "source": [
        "**9.What are the methods for right-justifying, left-justifying and centering a string ?\n",
        "\n",
        "\n",
        "\n",
        "Ans: The rjust(),ljust(),center() string methods, respectively**"
      ],
      "metadata": {
        "id": "QNxQuX9RqHO-"
      }
    },
    {
      "cell_type": "markdown",
      "source": [
        "10.What is the best way to remove whitespace characters from the start or end ?\n",
        "\n",
        "\n",
        "\n",
        "Ans: The lstrip() and rstrip() methods remove whitesapce characters from the left and right ends of a string respectively"
      ],
      "metadata": {
        "id": "ddqYitD6qSpr"
      }
    },
    {
      "cell_type": "code",
      "source": [
        ""
      ],
      "metadata": {
        "id": "M31oK7E0qYXh"
      },
      "execution_count": null,
      "outputs": []
    }
  ]
}